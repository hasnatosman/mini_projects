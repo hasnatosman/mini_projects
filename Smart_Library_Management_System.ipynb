{
  "nbformat": 4,
  "nbformat_minor": 0,
  "metadata": {
    "colab": {
      "provenance": [],
      "toc_visible": true,
      "authorship_tag": "ABX9TyMbAnHWujt91vnbNwVOkqT4",
      "include_colab_link": true
    },
    "kernelspec": {
      "name": "python3",
      "display_name": "Python 3"
    },
    "language_info": {
      "name": "python"
    }
  },
  "cells": [
    {
      "cell_type": "markdown",
      "metadata": {
        "id": "view-in-github",
        "colab_type": "text"
      },
      "source": [
        "<a href=\"https://colab.research.google.com/github/hasnatosman/mini_projects/blob/main/Smart_Library_Management_System.ipynb\" target=\"_parent\"><img src=\"https://colab.research.google.com/assets/colab-badge.svg\" alt=\"Open In Colab\"/></a>"
      ]
    },
    {
      "cell_type": "markdown",
      "source": [
        "# Project Overview: Smart Library Management System"
      ],
      "metadata": {
        "id": "LkKHcLLT0QI3"
      }
    },
    {
      "cell_type": "markdown",
      "source": [
        "**Core Python features:** variables, loops, conditionals, functions\n",
        "Object-Oriented Programming (OOP)\n",
        "Data structures: lists, dictionaries, sets\n",
        "File handling\n",
        "Exception handling\n",
        "Modules and libraries\n",
        "Database integration\n",
        "Multi-threading\n",
        "Networking (basic client-server)\n",
        "GUI development (optional)\n",
        "Deployment options (CLI, GUI, or web)"
      ],
      "metadata": {
        "id": "pHWPmgOr0Xb7"
      }
    },
    {
      "cell_type": "markdown",
      "source": [
        "## Objective\n",
        "The system manages a library's books and members, supporting tasks like:\n",
        "\n",
        "Adding/removing books.\n",
        "Issuing/returning books.\n",
        "Managing member details.\n",
        "Viewing transaction history.\n",
        "Search functionality for books/members.\n",
        "Multithreaded notifications for due dates.\n",
        "Optional GUI for ease of use."
      ],
      "metadata": {
        "id": "-H6etqww0wFi"
      }
    },
    {
      "cell_type": "markdown",
      "source": [
        "# Step 1: Database Setup"
      ],
      "metadata": {
        "id": "SfsgHX9r0678"
      }
    },
    {
      "cell_type": "code",
      "execution_count": 9,
      "metadata": {
        "id": "mAWEybdc0FBw"
      },
      "outputs": [],
      "source": [
        "import sqlite3\n",
        "import threading\n",
        "import time\n",
        "\n",
        "# Initialize the database\n",
        "def initialize_db():\n",
        "    conn = sqlite3.connect('db.sqlite')\n",
        "    cursor = conn.cursor()\n",
        "\n",
        "    cursor.execute('''\n",
        "        CREATE TABLE IF NOT EXISTS books (\n",
        "            id INTEGER PRIMARY KEY,\n",
        "            title TEXT,\n",
        "            author TEXT,\n",
        "            copies INTEGER\n",
        "        )\n",
        "    ''')\n",
        "\n",
        "    cursor.execute('''\n",
        "        CREATE TABLE IF NOT EXISTS members (\n",
        "            id INTEGER PRIMARY KEY,\n",
        "            name TEXT,\n",
        "            email TEXT,\n",
        "            borrowed_books TEXT\n",
        "        )\n",
        "    ''')\n",
        "\n",
        "    conn.commit()\n",
        "    conn.close()"
      ]
    },
    {
      "cell_type": "markdown",
      "source": [
        "## Explanation:\n",
        "*  `books` table stores details about each book.\n",
        "*  `members` table tracks member details and books they’ve borrowed.\n",
        "*  `borrowed_books` is stored as a string of comma-separated book IDs."
      ],
      "metadata": {
        "id": "3xAnmSaE1HYw"
      }
    },
    {
      "cell_type": "markdown",
      "source": [
        "# Step 2: Book Management"
      ],
      "metadata": {
        "id": "oVUZFmC21EdI"
      }
    },
    {
      "cell_type": "code",
      "source": [
        "# Book management\n",
        "class Book:\n",
        "    def __init__(self, title, author, copies):\n",
        "        self.title = title\n",
        "        self.author = author\n",
        "        self.copies = copies\n",
        "\n",
        "    def add_to_db(self):\n",
        "        conn = sqlite3.connect('db.sqlite')\n",
        "        cursor = conn.cursor()\n",
        "        cursor.execute('''\n",
        "            INSERT INTO books (title, author, copies)\n",
        "            VALUES (?, ?, ?)\n",
        "        ''', (self.title, self.author, self.copies))\n",
        "        conn.commit()\n",
        "        conn.close()\n",
        "        print(f\"Book '{self.title}' added successfully!\")\n",
        "\n",
        "    @staticmethod\n",
        "    def list_books():\n",
        "        conn = sqlite3.connect('db.sqlite')\n",
        "        cursor = conn.cursor()\n",
        "        cursor.execute('SELECT * FROM books')\n",
        "        books = cursor.fetchall()\n",
        "        conn.close()\n",
        "\n",
        "        print(\"\\nAvailable Books:\")\n",
        "        for book in books:\n",
        "            print(f\"ID: {book[0]}, Title: {book[1]}, Author: {book[2]}, Copies: {book[3]}\")"
      ],
      "metadata": {
        "id": "nwfVvDA_1Z_L"
      },
      "execution_count": 10,
      "outputs": []
    },
    {
      "cell_type": "markdown",
      "source": [
        "## Explanation:\n",
        "*  `add_to_db`: Adds a book to the `books` table.\n",
        "*  `list_books`: Displays all books."
      ],
      "metadata": {
        "id": "chIwIvjy1ogt"
      }
    },
    {
      "cell_type": "markdown",
      "source": [
        "# Step 3: Member Management"
      ],
      "metadata": {
        "id": "Ps4ADGIJ2wkB"
      }
    },
    {
      "cell_type": "code",
      "source": [
        "# Member management\n",
        "class Member:\n",
        "    def __init__(self, name, email):\n",
        "        self.name = name\n",
        "        self.email = email\n",
        "\n",
        "    def register(self):\n",
        "        conn = sqlite3.connect('db.sqlite')\n",
        "        cursor = conn.cursor()\n",
        "        cursor.execute('''\n",
        "            INSERT INTO members (name, email, borrowed_books)\n",
        "            VALUES (?, ?, ?)\n",
        "        ''', (self.name, self.email, \"\"))\n",
        "        conn.commit()\n",
        "        conn.close()\n",
        "        print(f\"Member '{self.name}' registered successfully!\")\n",
        "\n",
        "    @staticmethod\n",
        "    def list_members():\n",
        "        conn = sqlite3.connect('db.sqlite')\n",
        "        cursor = conn.cursor()\n",
        "        cursor.execute('SELECT * FROM members')\n",
        "        members = cursor.fetchall()\n",
        "        conn.close()\n",
        "\n",
        "        print(\"\\nRegistered Members:\")\n",
        "        for member in members:\n",
        "            print(f\"ID: {member[0]}, Name: {member[1]}, Email: {member[2]}, Borrowed Books: {member[3]}\")"
      ],
      "metadata": {
        "id": "OcVq5sJV1zQr"
      },
      "execution_count": 11,
      "outputs": []
    },
    {
      "cell_type": "markdown",
      "source": [
        "## Explanation:\n",
        "*  `register`: Adds a new member to the `members` table.\n",
        "*  `list_members`: Displays all members."
      ],
      "metadata": {
        "id": "Fj9P5q4_28bZ"
      }
    },
    {
      "cell_type": "markdown",
      "source": [
        "# Step 4: Issue/Return Books"
      ],
      "metadata": {
        "id": "Zfu4jurQ3MkJ"
      }
    },
    {
      "cell_type": "code",
      "source": [
        "# Issuing and returning books\n",
        "def issue_book(member_id, book_id):\n",
        "    conn = sqlite3.connect('db.sqlite')\n",
        "    cursor = conn.cursor()\n",
        "\n",
        "    cursor.execute('SELECT copies FROM books WHERE id = ?', (book_id,))\n",
        "    book = cursor.fetchone()\n",
        "    if not book or book[0] <= 0:\n",
        "        print(\"Book not available!\")\n",
        "        return\n",
        "\n",
        "    cursor.execute('UPDATE books SET copies = copies - 1 WHERE id = ?', (book_id,))\n",
        "    cursor.execute('SELECT borrowed_books FROM members WHERE id = ?', (member_id,))\n",
        "    borrowed_books = cursor.fetchone()[0]\n",
        "    updated_books = f\"{borrowed_books},{book_id}\" if borrowed_books else str(book_id)\n",
        "    cursor.execute('UPDATE members SET borrowed_books = ? WHERE id = ?', (updated_books, member_id))\n",
        "\n",
        "    conn.commit()\n",
        "    conn.close()\n",
        "    print(\"Book issued successfully!\")\n",
        "\n",
        "\n",
        "def return_book(member_id, book_id):\n",
        "    conn = sqlite3.connect('db.sqlite')\n",
        "    cursor = conn.cursor()\n",
        "\n",
        "    cursor.execute('UPDATE books SET copies = copies + 1 WHERE id = ?', (book_id,))\n",
        "    cursor.execute('SELECT borrowed_books FROM members WHERE id = ?', (member_id,))\n",
        "    borrowed_books = cursor.fetchone()[0].split(',')\n",
        "    updated_books = ','.join([book for book in borrowed_books if book != str(book_id)])\n",
        "    cursor.execute('UPDATE members SET borrowed_books = ? WHERE id = ?', (updated_books, member_id))\n",
        "\n",
        "    conn.commit()\n",
        "    conn.close()\n",
        "    print(\"Book returned successfully!\")"
      ],
      "metadata": {
        "id": "0uX3bxwF3E_o"
      },
      "execution_count": 12,
      "outputs": []
    },
    {
      "cell_type": "markdown",
      "source": [
        "## Explanation:\n",
        "*  `issue_book`:Decreases the number of available copies of a book.Updates the member's borrowed book list.\n",
        "*  `return_book`:Increases the number of available copies.Removes the book from the member's borrowed book list."
      ],
      "metadata": {
        "id": "FQBt4mfl3UCD"
      }
    },
    {
      "cell_type": "markdown",
      "source": [
        "# Step 5: Notifications with Multi-threading"
      ],
      "metadata": {
        "id": "PSWD2CRQ4IsT"
      }
    },
    {
      "cell_type": "code",
      "source": [
        "from datetime import datetime, timedelta\n",
        "\n",
        "def notify_due_books():\n",
        "    while True:\n",
        "        conn = sqlite3.connect('db.sqlite')\n",
        "        cursor = conn.cursor()\n",
        "\n",
        "        print(\"Checking for due books...\")\n",
        "\n",
        "        # Simulated logic for fetching due books\n",
        "        # Assuming a 'due_date' column in the 'members' table to track return deadlines\n",
        "        cursor.execute('''\n",
        "            SELECT members.name, members.email, members.borrowed_books\n",
        "            FROM members\n",
        "            WHERE borrowed_books IS NOT NULL AND borrowed_books != ''\n",
        "        ''')\n",
        "        members = cursor.fetchall()\n",
        "\n",
        "        for member in members:\n",
        "            name, email, borrowed_books = member\n",
        "            borrowed_books_list = borrowed_books.split(',')\n",
        "\n",
        "            for book_id in borrowed_books_list:\n",
        "                # Example: Assuming a due date 7 days after issuing\n",
        "                # Adjust logic based on how you implement issuing/return dates\n",
        "                issued_date = datetime.now() - timedelta(days=7)  # Simulated issued date\n",
        "                due_date = issued_date + timedelta(days=7)\n",
        "\n",
        "                if due_date < datetime.now():\n",
        "                    print(f\"Reminder: Member {name} ({email}) has an overdue book with ID {book_id}.\")\n",
        "\n",
        "        conn.close()\n",
        "        time.sleep(10)  # Wait 10 seconds before the next check\n"
      ],
      "metadata": {
        "id": "_sHRlRJj3xEn",
        "outputId": "9b586414-e9e4-474f-a587-f02d7d2fdf15",
        "colab": {
          "base_uri": "https://localhost:8080/"
        }
      },
      "execution_count": 23,
      "outputs": [
        {
          "output_type": "stream",
          "name": "stdout",
          "text": [
            "Checking for due books...\n"
          ]
        }
      ]
    },
    {
      "cell_type": "markdown",
      "source": [
        "# Step 6: CLI (Optional)"
      ],
      "metadata": {
        "id": "ImvM8Y904Tbi"
      }
    },
    {
      "cell_type": "code",
      "source": [
        "# Main CLI\n",
        "def main():\n",
        "    initialize_db()\n",
        "\n",
        "    # Start notification thread\n",
        "    notification_thread = threading.Thread(target=notify_due_books, daemon=True)\n",
        "    notification_thread.start()\n",
        "\n",
        "    while True:\n",
        "        print(\"\\n--- Smart Library Management System ---\")\n",
        "        print(\"1. Add Book\")\n",
        "        print(\"2. List Books\")\n",
        "        print(\"3. Register Member\")\n",
        "        print(\"4. List Members\")\n",
        "        print(\"5. Issue Book\")\n",
        "        print(\"6. Return Book\")\n",
        "        print(\"7. Exit\")\n",
        "        choice = input(\"Enter your choice: \")\n",
        "\n",
        "        if choice == '1':\n",
        "            title = input(\"Enter book title: \")\n",
        "            author = input(\"Enter book author: \")\n",
        "            copies = int(input(\"Enter number of copies: \"))\n",
        "            book = Book(title, author, copies)\n",
        "            book.add_to_db()\n",
        "\n",
        "        elif choice == '2':\n",
        "            Book.list_books()\n",
        "\n",
        "        elif choice == '3':\n",
        "            name = input(\"Enter member name: \")\n",
        "            email = input(\"Enter member email: \")\n",
        "            member = Member(name, email)\n",
        "            member.register()\n",
        "\n",
        "        elif choice == '4':\n",
        "            Member.list_members()\n",
        "\n",
        "        elif choice == '5':\n",
        "            member_id = int(input(\"Enter member ID: \"))\n",
        "            book_id = int(input(\"Enter book ID: \"))\n",
        "            issue_book(member_id, book_id)\n",
        "\n",
        "        elif choice == '6':\n",
        "            member_id = int(input(\"Enter member ID: \"))\n",
        "            book_id = int(input(\"Enter book ID: \"))\n",
        "            return_book(member_id, book_id)\n",
        "\n",
        "        elif choice == '7':\n",
        "            print(\"Exiting the system. Goodbye!\")\n",
        "            break\n",
        "\n",
        "        else:\n",
        "            print(\"Invalid choice! Please try again.\")\n",
        "\n",
        "\n",
        "if __name__ == '__main__':\n",
        "    main()"
      ],
      "metadata": {
        "id": "r9m-ayoR4YUP",
        "outputId": "7d8727e9-6772-4f4d-e037-e4b0c295cbf0",
        "colab": {
          "base_uri": "https://localhost:8080/",
          "height": 1000
        }
      },
      "execution_count": 25,
      "outputs": [
        {
          "output_type": "stream",
          "name": "stdout",
          "text": [
            "Checking for due books...\n",
            "\n",
            "--- Smart Library Management System ---\n",
            "1. Add Book\n",
            "2. List Books\n",
            "3. Register Member\n",
            "4. List Members\n",
            "5. Issue Book\n",
            "6. Return Book\n",
            "7. Exit\n",
            "Checking for due books...\n",
            "Checking for due books...\n",
            "Checking for due books...\n",
            "Checking for due books...\n",
            "Checking for due books...\n",
            "Checking for due books...\n",
            "Checking for due books...\n",
            "Checking for due books...\n",
            "Checking for due books...\n",
            "Checking for due books...\n",
            "Checking for due books...\n",
            "Checking for due books...\n",
            "Checking for due books...\n",
            "Checking for due books...\n",
            "Checking for due books...\n",
            "Checking for due books...\n",
            "Checking for due books...\n",
            "Checking for due books...\n",
            "Checking for due books...\n",
            "Checking for due books...\n",
            "Checking for due books...\n",
            "Checking for due books...\n",
            "Checking for due books...\n",
            "Checking for due books...\n",
            "Checking for due books...\n",
            "Checking for due books...\n",
            "Checking for due books...\n",
            "Checking for due books...\n",
            "Checking for due books...\n",
            "Checking for due books...\n",
            "Checking for due books...\n",
            "Checking for due books...\n",
            "Checking for due books...\n",
            "Checking for due books...\n",
            "Checking for due books...\n",
            "Checking for due books...\n",
            "Checking for due books...\n"
          ]
        },
        {
          "output_type": "error",
          "ename": "KeyboardInterrupt",
          "evalue": "Interrupted by user",
          "traceback": [
            "\u001b[0;31m---------------------------------------------------------------------------\u001b[0m",
            "\u001b[0;31mKeyboardInterrupt\u001b[0m                         Traceback (most recent call last)",
            "\u001b[0;32m<ipython-input-25-d0d87297597e>\u001b[0m in \u001b[0;36m<cell line: 57>\u001b[0;34m()\u001b[0m\n\u001b[1;32m     56\u001b[0m \u001b[0;34m\u001b[0m\u001b[0m\n\u001b[1;32m     57\u001b[0m \u001b[0;32mif\u001b[0m \u001b[0m__name__\u001b[0m \u001b[0;34m==\u001b[0m \u001b[0;34m'__main__'\u001b[0m\u001b[0;34m:\u001b[0m\u001b[0;34m\u001b[0m\u001b[0;34m\u001b[0m\u001b[0m\n\u001b[0;32m---> 58\u001b[0;31m     \u001b[0mmain\u001b[0m\u001b[0;34m(\u001b[0m\u001b[0;34m)\u001b[0m\u001b[0;34m\u001b[0m\u001b[0;34m\u001b[0m\u001b[0m\n\u001b[0m",
            "\u001b[0;32m<ipython-input-25-d0d87297597e>\u001b[0m in \u001b[0;36mmain\u001b[0;34m()\u001b[0m\n\u001b[1;32m     16\u001b[0m         \u001b[0mprint\u001b[0m\u001b[0;34m(\u001b[0m\u001b[0;34m\"6. Return Book\"\u001b[0m\u001b[0;34m)\u001b[0m\u001b[0;34m\u001b[0m\u001b[0;34m\u001b[0m\u001b[0m\n\u001b[1;32m     17\u001b[0m         \u001b[0mprint\u001b[0m\u001b[0;34m(\u001b[0m\u001b[0;34m\"7. Exit\"\u001b[0m\u001b[0;34m)\u001b[0m\u001b[0;34m\u001b[0m\u001b[0;34m\u001b[0m\u001b[0m\n\u001b[0;32m---> 18\u001b[0;31m         \u001b[0mchoice\u001b[0m \u001b[0;34m=\u001b[0m \u001b[0minput\u001b[0m\u001b[0;34m(\u001b[0m\u001b[0;34m\"Enter your choice: \"\u001b[0m\u001b[0;34m)\u001b[0m\u001b[0;34m\u001b[0m\u001b[0;34m\u001b[0m\u001b[0m\n\u001b[0m\u001b[1;32m     19\u001b[0m \u001b[0;34m\u001b[0m\u001b[0m\n\u001b[1;32m     20\u001b[0m         \u001b[0;32mif\u001b[0m \u001b[0mchoice\u001b[0m \u001b[0;34m==\u001b[0m \u001b[0;34m'1'\u001b[0m\u001b[0;34m:\u001b[0m\u001b[0;34m\u001b[0m\u001b[0;34m\u001b[0m\u001b[0m\n",
            "\u001b[0;32m/usr/local/lib/python3.10/dist-packages/ipykernel/kernelbase.py\u001b[0m in \u001b[0;36mraw_input\u001b[0;34m(self, prompt)\u001b[0m\n\u001b[1;32m    849\u001b[0m                 \u001b[0;34m\"raw_input was called, but this frontend does not support input requests.\"\u001b[0m\u001b[0;34m\u001b[0m\u001b[0;34m\u001b[0m\u001b[0m\n\u001b[1;32m    850\u001b[0m             )\n\u001b[0;32m--> 851\u001b[0;31m         return self._input_request(str(prompt),\n\u001b[0m\u001b[1;32m    852\u001b[0m             \u001b[0mself\u001b[0m\u001b[0;34m.\u001b[0m\u001b[0m_parent_ident\u001b[0m\u001b[0;34m,\u001b[0m\u001b[0;34m\u001b[0m\u001b[0;34m\u001b[0m\u001b[0m\n\u001b[1;32m    853\u001b[0m             \u001b[0mself\u001b[0m\u001b[0;34m.\u001b[0m\u001b[0m_parent_header\u001b[0m\u001b[0;34m,\u001b[0m\u001b[0;34m\u001b[0m\u001b[0;34m\u001b[0m\u001b[0m\n",
            "\u001b[0;32m/usr/local/lib/python3.10/dist-packages/ipykernel/kernelbase.py\u001b[0m in \u001b[0;36m_input_request\u001b[0;34m(self, prompt, ident, parent, password)\u001b[0m\n\u001b[1;32m    893\u001b[0m             \u001b[0;32mexcept\u001b[0m \u001b[0mKeyboardInterrupt\u001b[0m\u001b[0;34m:\u001b[0m\u001b[0;34m\u001b[0m\u001b[0;34m\u001b[0m\u001b[0m\n\u001b[1;32m    894\u001b[0m                 \u001b[0;31m# re-raise KeyboardInterrupt, to truncate traceback\u001b[0m\u001b[0;34m\u001b[0m\u001b[0;34m\u001b[0m\u001b[0m\n\u001b[0;32m--> 895\u001b[0;31m                 \u001b[0;32mraise\u001b[0m \u001b[0mKeyboardInterrupt\u001b[0m\u001b[0;34m(\u001b[0m\u001b[0;34m\"Interrupted by user\"\u001b[0m\u001b[0;34m)\u001b[0m \u001b[0;32mfrom\u001b[0m \u001b[0;32mNone\u001b[0m\u001b[0;34m\u001b[0m\u001b[0;34m\u001b[0m\u001b[0m\n\u001b[0m\u001b[1;32m    896\u001b[0m             \u001b[0;32mexcept\u001b[0m \u001b[0mException\u001b[0m \u001b[0;32mas\u001b[0m \u001b[0me\u001b[0m\u001b[0;34m:\u001b[0m\u001b[0;34m\u001b[0m\u001b[0;34m\u001b[0m\u001b[0m\n\u001b[1;32m    897\u001b[0m                 \u001b[0mself\u001b[0m\u001b[0;34m.\u001b[0m\u001b[0mlog\u001b[0m\u001b[0;34m.\u001b[0m\u001b[0mwarning\u001b[0m\u001b[0;34m(\u001b[0m\u001b[0;34m\"Invalid Message:\"\u001b[0m\u001b[0;34m,\u001b[0m \u001b[0mexc_info\u001b[0m\u001b[0;34m=\u001b[0m\u001b[0;32mTrue\u001b[0m\u001b[0;34m)\u001b[0m\u001b[0;34m\u001b[0m\u001b[0;34m\u001b[0m\u001b[0m\n",
            "\u001b[0;31mKeyboardInterrupt\u001b[0m: Interrupted by user"
          ]
        }
      ]
    }
  ]
}