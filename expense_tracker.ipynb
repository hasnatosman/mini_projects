{
  "nbformat": 4,
  "nbformat_minor": 0,
  "metadata": {
    "colab": {
      "provenance": [],
      "authorship_tag": "ABX9TyOZiDufN8B64s8CofQoSoZ/",
      "include_colab_link": true
    },
    "kernelspec": {
      "name": "python3",
      "display_name": "Python 3"
    },
    "language_info": {
      "name": "python"
    }
  },
  "cells": [
    {
      "cell_type": "markdown",
      "metadata": {
        "id": "view-in-github",
        "colab_type": "text"
      },
      "source": [
        "<a href=\"https://colab.research.google.com/github/hasnatosman/mini_projects/blob/main/expense_tracker.ipynb\" target=\"_parent\"><img src=\"https://colab.research.google.com/assets/colab-badge.svg\" alt=\"Open In Colab\"/></a>"
      ]
    },
    {
      "cell_type": "code",
      "execution_count": 1,
      "metadata": {
        "id": "xh0RJ5dAwde5"
      },
      "outputs": [],
      "source": [
        "import sqlite3\n",
        "\n",
        "def initialize_db():\n",
        "    conn = sqlite3.connect('db.sqlite')\n",
        "    cursor = conn.cursor()\n",
        "    cursor.execute('''\n",
        "        CREATE TABLE IF NOT EXISTS expenses (\n",
        "            id INTEGER PRIMARY KEY,\n",
        "            date TEXT,\n",
        "            category TEXT,\n",
        "            amount REAL,\n",
        "            description TEXT\n",
        "        )\n",
        "    ''')\n",
        "    conn.commit()\n",
        "    conn.close()\n",
        "\n",
        "initialize_db()\n"
      ]
    },
    {
      "cell_type": "code",
      "source": [
        "class Expense:\n",
        "    def __init__(self, date, category, amount, description):\n",
        "        self.date = date\n",
        "        self.category = category\n",
        "        self.amount = amount\n",
        "        self.description = description\n",
        "\n",
        "    def save_to_db(self):\n",
        "        conn = sqlite3.connect('db.sqlite')\n",
        "        cursor = conn.cursor()\n",
        "        cursor.execute('''\n",
        "            INSERT INTO expenses (date, category, amount, description)\n",
        "            VALUES (?, ?, ?, ?)\n",
        "        ''', (self.date, self.category, self.amount, self.description))\n",
        "        conn.commit()\n",
        "        conn.close()\n"
      ],
      "metadata": {
        "id": "cMx46J-rwqHb"
      },
      "execution_count": 2,
      "outputs": []
    },
    {
      "cell_type": "code",
      "source": [
        "def add_expense():\n",
        "    date = input(\"Enter date (YYYY-MM-DD): \")\n",
        "    category = input(\"Enter category (e.g., Food, Transport): \")\n",
        "    amount = float(input(\"Enter amount: \"))\n",
        "    description = input(\"Enter description: \")\n",
        "    expense = Expense(date, category, amount, description)\n",
        "    expense.save_to_db()\n",
        "    print(\"Expense added successfully!\")\n"
      ],
      "metadata": {
        "id": "bVjFOF1nwt8p"
      },
      "execution_count": 3,
      "outputs": []
    },
    {
      "cell_type": "code",
      "source": [
        "def view_expenses():\n",
        "    conn = sqlite3.connect('db.sqlite')\n",
        "    cursor = conn.cursor()\n",
        "    cursor.execute('SELECT * FROM expenses')\n",
        "    expenses = cursor.fetchall()\n",
        "    conn.close()\n",
        "\n",
        "    for exp in expenses:\n",
        "        print(f\"ID: {exp[0]}, Date: {exp[1]}, Category: {exp[2]}, Amount: {exp[3]}, Description: {exp[4]}\")\n",
        "\n",
        "def filter_expenses_by_category(category):\n",
        "    conn = sqlite3.connect('db.sqlite')\n",
        "    cursor = conn.cursor()\n",
        "    cursor.execute('SELECT * FROM expenses WHERE category = ?', (category,))\n",
        "    expenses = cursor.fetchall()\n",
        "    conn.close()\n",
        "    return expenses\n"
      ],
      "metadata": {
        "id": "ByVKYSTlwxQq"
      },
      "execution_count": 4,
      "outputs": []
    },
    {
      "cell_type": "code",
      "source": [
        "import matplotlib.pyplot as plt\n",
        "\n",
        "def visualize_expenses():\n",
        "    conn = sqlite3.connect('db.sqlite')\n",
        "    cursor = conn.cursor()\n",
        "    cursor.execute('SELECT category, SUM(amount) FROM expenses GROUP BY category')\n",
        "    data = cursor.fetchall()\n",
        "    conn.close()\n",
        "\n",
        "    categories = [row[0] for row in data]\n",
        "    amounts = [row[1] for row in data]\n",
        "\n",
        "    plt.bar(categories, amounts)\n",
        "    plt.title('Expenses by Category')\n",
        "    plt.xlabel('Category')\n",
        "    plt.ylabel('Amount')\n",
        "    plt.show()\n"
      ],
      "metadata": {
        "id": "kJvvYlhkw0Xw"
      },
      "execution_count": 5,
      "outputs": []
    },
    {
      "cell_type": "code",
      "source": [
        "import requests\n",
        "from bs4 import BeautifulSoup\n",
        "\n",
        "def get_exchange_rate(currency):\n",
        "    url = f\"https://www.x-rates.com/calculator/?from={currency}&to=USD&amount=1\"\n",
        "    response = requests.get(url)\n",
        "    soup = BeautifulSoup(response.text, 'html.parser')\n",
        "    rate = soup.find('span', class_='ccOutputTrail').previous_sibling.text\n",
        "    return float(rate)\n"
      ],
      "metadata": {
        "id": "wcmUvjqnw4ET"
      },
      "execution_count": 6,
      "outputs": []
    },
    {
      "cell_type": "code",
      "source": [
        "def main():\n",
        "    while True:\n",
        "        print(\"\\n--- Expense Tracker ---\")\n",
        "        print(\"1. Add Expense\")\n",
        "        print(\"2. View Expenses\")\n",
        "        print(\"3. Visualize Expenses\")\n",
        "        print(\"4. Exit\")\n",
        "        choice = input(\"Enter choice: \")\n",
        "\n",
        "        if choice == '1':\n",
        "            add_expense()\n",
        "        elif choice == '2':\n",
        "            view_expenses()\n",
        "        elif choice == '3':\n",
        "            visualize_expenses()\n",
        "        elif choice == '4':\n",
        "            break\n",
        "        else:\n",
        "            print(\"Invalid choice! Please try again.\")\n",
        "\n",
        "if __name__ == '__main__':\n",
        "    main()\n"
      ],
      "metadata": {
        "colab": {
          "base_uri": "https://localhost:8080/"
        },
        "id": "9plgQDwow7wJ",
        "outputId": "86f04493-67a9-4fb6-ef4a-4e72600601ff"
      },
      "execution_count": 9,
      "outputs": [
        {
          "name": "stdout",
          "output_type": "stream",
          "text": [
            "\n",
            "--- Expense Tracker ---\n",
            "1. Add Expense\n",
            "2. View Expenses\n",
            "3. Visualize Expenses\n",
            "4. Exit\n",
            "Enter choice: 4\n"
          ]
        }
      ]
    }
  ]
}